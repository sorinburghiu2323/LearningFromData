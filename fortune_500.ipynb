{
 "cells": [
  {
   "cell_type": "code",
   "execution_count": null,
   "metadata": {},
   "outputs": [],
   "source": [
    "import pandas as pd\n",
    "import numpy as np\n",
    "import seaborn as sns\n",
    "\n",
    "import matplotlib.pyplot as plt\n",
    "from matplotlib import style\n",
    "\n",
    "from sklearn.model_selection import train_test_split\n",
    "from sklearn.linear_model import Lasso, Ridge\n",
    "\n",
    "import pickle\n",
    "\n",
    "TRAIN_NEW_MODEL = True\n",
    "NEW_MODEL_TRAIN_COUNT = 2000"
   ]
  },
  {
   "cell_type": "code",
   "execution_count": null,
   "metadata": {},
   "outputs": [],
   "source": [
    "# Read csv and output feature columns.\n",
    "df = pd.read_csv('fortune_500.csv')\n",
    "df.columns"
   ]
  },
  {
   "cell_type": "code",
   "execution_count": null,
   "metadata": {},
   "outputs": [],
   "source": [
    "# Remove all empty rows and get information about the data types in the df.\n",
    "df = df.fillna(0)\n",
    "df = df[df.Employees < 2_000_000]\n",
    "df.info()"
   ]
  },
  {
   "cell_type": "code",
   "execution_count": null,
   "metadata": {},
   "outputs": [],
   "source": [
    "# Understand different relationship between different variables with seaborn.\n",
    "sns.pairplot(df)"
   ]
  },
  {
   "cell_type": "code",
   "execution_count": null,
   "metadata": {},
   "outputs": [],
   "source": [
    "x = df[['Profits', 'Employees', 'Assets', 'Totshequity']]  # Variables used to make predictions\n",
    "y = df['Revenues']  # Variables we are going to predict\n",
    "x_train, x_test, y_train, y_test = train_test_split(x, y, test_size=0.3)\n",
    "\n",
    "def train_new_model():\n",
    "    \"\"\"\n",
    "    Train new model by attempting to create the best model in a certain\n",
    "    amount of tries - NEW_MODEL_TRAIN_COUNT.\n",
    "    Save the best model as a pickle file.\n",
    "    \"\"\"\n",
    "    best_lin_reg = 0\n",
    "    best_lasso_reg = 0\n",
    "    for _ in range(NEW_MODEL_TRAIN_COUNT):\n",
    "\n",
    "        # Split data into training and testing.\n",
    "        x_train, x_test, y_train, y_test = train_test_split(x, y, test_size=0.3)\n",
    "\n",
    "        # Apply linear regression model.\n",
    "        RidgeReg = Ridge(alpha=1, normalize=True)\n",
    "        RidgeReg.fit(x_train, y_train)\n",
    "\n",
    "        # Calculate accuracy and swap model if it's better than the current best.\n",
    "        accuracy = RidgeReg.score(x_test, y_test)\n",
    "        if accuracy > best_lin_reg:\n",
    "            best_lin_reg = accuracy\n",
    "            with open('fortune_500_lin_reg_model.pickle', 'wb') as f:\n",
    "                pickle.dump(RidgeReg, f)\n",
    "\n",
    "        # Similar approach for Lasso regression.\n",
    "        LassoReg = Lasso(alpha=1, normalize=True)\n",
    "        LassoReg.fit(x_train, y_train)\n",
    "        accuracy = LassoReg.score(x_test, y_test)\n",
    "        if accuracy > best_lasso_reg:\n",
    "            best_lasso_reg = accuracy\n",
    "            with open('fortune_500_lasso_reg_model.pickle', 'wb') as f:\n",
    "                pickle.dump(LassoReg, f)\n",
    "\n",
    "# Train new model if specified, otherwise populate it from the pickle file.\n",
    "if TRAIN_NEW_MODEL:\n",
    "    train_new_model()\n",
    "pickle_in = open('fortune_500_ridge_reg_model.pickle', 'rb')\n",
    "RidgeReg = pickle.load(pickle_in)\n",
    "pickle_in = open('fortune_500_lasso_reg_model.pickle', 'rb')\n",
    "LassoReg = pickle.load(pickle_in)"
   ]
  },
  {
   "cell_type": "code",
   "execution_count": null,
   "metadata": {},
   "outputs": [],
   "source": [
    "# Evaluate the model's coefficients.\n",
    "print('Accuracy: ', RidgeReg.score(x_test, y_test))\n",
    "pd.DataFrame(RidgeReg.coef_, x.columns, columns = ['Coeff'])"
   ]
  },
  {
   "cell_type": "code",
   "execution_count": null,
   "metadata": {},
   "outputs": [],
   "source": [
    "# Make predictions:\n",
    "predictions = RidgeReg.predict(x_test)\n",
    "\n",
    "# Produce scatter graph between y_test values and predictions.\n",
    "style.use('ggplot')\n",
    "plt.scatter(y_test, predictions)\n",
    "plt.xlabel('Actual')\n",
    "plt.ylabel('Predicted')\n",
    "plt.show()\n",
    "\n",
    "# Draw line of best fit.\n",
    "slope, y_intercept = np.polyfit(y_test, predictions, 1)\n",
    "plt.plot(y_test, predictions, 'o')\n",
    "plt.xlabel('Actual')\n",
    "plt.ylabel('Predicted')\n",
    "plt.plot(y_test, slope*y_test + y_intercept)"
   ]
  },
  {
   "cell_type": "code",
   "execution_count": null,
   "metadata": {},
   "outputs": [],
   "source": [
    "plt.hist(y_test - predictions)"
   ]
  },
  {
   "cell_type": "code",
   "execution_count": null,
   "metadata": {},
   "outputs": [],
   "source": [
    "def predict_individual(model, data, actual_revenue=None):\n",
    "    \"\"\"\n",
    "    Predict an individual value given a model and data.\n",
    "    :param actual_revenue: (optional) to show the accuracy of the prediction\n",
    "    \"\"\"\n",
    "    prediction = model.predict([data])[0]\n",
    "    print('Prediction: ', prediction)\n",
    "    if actual_revenue:\n",
    "        print('Accuracy: ', (prediction / actual_revenue if prediction < actual_revenue else actual_revenue / prediction)  * 100, '%')\n",
    "    return prediction\n",
    "\n",
    "# Predict: Core-Mark Holding\n",
    "predict_individual(RidgeReg, [54.2, 7688, 1497, 530], actual_revenue=11507)"
   ]
  },
  {
   "cell_type": "code",
   "execution_count": null,
   "metadata": {},
   "outputs": [],
   "source": [
    "# The mean squared error of Ridge regression model.\n",
    "print(\"Mean squared error: %.2f\" % np.mean((RidgeReg.predict(x_test) - y_test) ** 2))"
   ]
  },
  {
   "cell_type": "code",
   "execution_count": null,
   "metadata": {},
   "outputs": [],
   "source": [
    "# Now apply the same approach to lasso regression in order to compare it against ridge regression.\n",
    "\n",
    "# Evaluate the model's coefficients.\n",
    "print('Accuracy: ', LassoReg.score(x_test, y_test))\n",
    "pd.DataFrame(LassoReg.coef_, x.columns, columns = ['Coeff'])"
   ]
  },
  {
   "cell_type": "code",
   "execution_count": null,
   "metadata": {},
   "outputs": [],
   "source": [
    "# Make predictions.\n",
    "predictions = LassoReg.predict(x_test)\n",
    "\n",
    "# Draw line of best fit.\n",
    "slope, y_intercept = np.polyfit(y_test, predictions, 1)\n",
    "print('Slope: ', slope)\n",
    "plt.xlabel('Actual')\n",
    "plt.ylabel('Predicted')\n",
    "plt.plot(y_test, predictions, 'o')\n",
    "plt.plot(y_test, slope*y_test + y_intercept)"
   ]
  },
  {
   "cell_type": "code",
   "execution_count": null,
   "metadata": {},
   "outputs": [],
   "source": [
    "# Same individual prediction as RidgeReg.\n",
    "# Predict: Core-Mark Holding\n",
    "predict_individual(LassoReg, [54.2, 7688, 1497, 530], actual_revenue=11507)"
   ]
  },
  {
   "cell_type": "code",
   "execution_count": null,
   "metadata": {},
   "outputs": [],
   "source": [
    "# The mean squared error of Lasso regression model.\n",
    "print(\"Mean squared error: %.2f\" % np.mean((LassoReg.predict(x_test) - y_test) ** 2))"
   ]
  }
 ],
 "metadata": {
  "interpreter": {
   "hash": "0e83fd681707fabc57dfa03c415aa8b107fbc29b53cde2de009b5207e3921c7f"
  },
  "kernelspec": {
   "display_name": "Python 3.9.6 64-bit (system)",
   "name": "python3"
  },
  "language_info": {
   "codemirror_mode": {
    "name": "ipython",
    "version": 3
   },
   "file_extension": ".py",
   "mimetype": "text/x-python",
   "name": "python",
   "nbconvert_exporter": "python",
   "pygments_lexer": "ipython3",
   "version": "3.9.6"
  },
  "orig_nbformat": 4
 },
 "nbformat": 4,
 "nbformat_minor": 2
}
